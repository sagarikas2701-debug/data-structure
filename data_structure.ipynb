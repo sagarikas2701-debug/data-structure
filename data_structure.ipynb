{
  "nbformat": 4,
  "nbformat_minor": 0,
  "metadata": {
    "colab": {
      "provenance": []
    },
    "kernelspec": {
      "name": "python3",
      "display_name": "Python 3"
    },
    "language_info": {
      "name": "python"
    }
  },
  "cells": [
    {
      "cell_type": "markdown",
      "source": [
        "THEORY QUESTIONS"
      ],
      "metadata": {
        "id": "be5k0xWKVpKp"
      }
    },
    {
      "cell_type": "markdown",
      "source": [
        "1. What are data structures and why aare they important ?\n",
        "\n",
        "ans- They are organized ways to store and manage data efficienty , enabling access and modification. They are important as they allow data procesing , crucial for building scalable and high performance software appliction.\n"
      ],
      "metadata": {
        "id": "bJkb9cCxVpGs"
      }
    },
    {
      "cell_type": "markdown",
      "source": [
        "2. Explain difference between mutable and immutable data types .\n",
        "\n",
        "ans- Mutable datatype can be modified fter creation , example being lists , dictionaries nd sets whereas immutable datatype cannot be chaanged , example being strings,tuples."
      ],
      "metadata": {
        "id": "Xun64A-fVpCg"
      }
    },
    {
      "cell_type": "markdown",
      "source": [
        "3. What are tha main differences between list and tuples in python?\n",
        "\n",
        "ans- Lists are mutable and defined with [] square brackets whereas tuples are immutable and are defined with ()parantheses . In list collection of items can be changed contrary to tuple where it is fixed\n",
        "\n",
        "\n"
      ],
      "metadata": {
        "id": "6KdY2XbKVo9C"
      }
    },
    {
      "cell_type": "markdown",
      "source": [
        "4. Describe how dictionaries store data.\n",
        "\n",
        "ans - Dictionaries store data as key value pairs where each key maps to a specific value . They are unordered collections used for quick retrieval of values based on their keys ."
      ],
      "metadata": {
        "id": "sebCAX2mVo3B"
      }
    },
    {
      "cell_type": "markdown",
      "source": [
        "5. Why might you use a set instead of list in python?\n",
        "\n",
        "ans  We might use a set instead of list when it is needed to store colectio of unique items and operations like union , intersection or difference. Sets automatically handle duplicate removal .\n",
        "\n",
        "\n"
      ],
      "metadata": {
        "id": "bQLwj7jCVooc"
      }
    },
    {
      "cell_type": "markdown",
      "source": [
        "6. What is string in python and how is it different from list ?\n",
        "\n",
        "ans- String is an immutable sequence of characters , they are specifically for texts and cant be changed after creation . Lists are mutable and can contain items of different data types.\n"
      ],
      "metadata": {
        "id": "6Tys5PkaYPkG"
      }
    },
    {
      "cell_type": "markdown",
      "source": [
        "7. How do tuples ensure data integrity in python?\n",
        "\n",
        "ans - Tuples are immutable , which prevents accidental modification of elements after creation , making them suitable for data which should not be changed ."
      ],
      "metadata": {
        "id": "0lf8XJ-YYPO3"
      }
    },
    {
      "cell_type": "markdown",
      "source": [
        "8. What is hash table , and how does it relate to dictionaries in python?\n",
        "\n",
        "ans- Hash table is a data structure that maps keys to values using hash function , dictionaries are implemented using these as they allow fast average time case complexity for operations like insertion , deletion and lookup."
      ],
      "metadata": {
        "id": "VtANBJ23YPEf"
      }
    },
    {
      "cell_type": "markdown",
      "source": [
        "9. Can lists contain different datatypes in python?\n",
        "\n",
        "ans - Yes , lists can contain elements of different data types such as integer , string , floats , etc\n"
      ],
      "metadata": {
        "id": "T-QzVZBWYO-K"
      }
    },
    {
      "cell_type": "markdown",
      "source": [
        "10. Explain why strings are immutable in python?\n",
        "\n",
        "ans - String are immutable because this allows optimizations like string interning , makes them safe to be used as dictionary keys and simplifies program as cant be modified ."
      ],
      "metadata": {
        "id": "rTFoQrssYO1m"
      }
    },
    {
      "cell_type": "markdown",
      "source": [
        "11. What advantage do dictionaries offer over lists for certain tasks?\n",
        "\n",
        "ans - Dictionaries offer advantage when weneed to retrieve data based on specific key rather than index , provides faster lookups and more meaningful data organization for associative data ."
      ],
      "metadata": {
        "id": "KoeSoA6zaPwE"
      }
    },
    {
      "cell_type": "markdown",
      "source": [
        "12. Describe scenario where using tuple will be preferred over a list .\n",
        "\n",
        "ans - When representing fixed collection of data such as latitudes , logitudes or a date , where values cant change , tuple woule be preferred over list ."
      ],
      "metadata": {
        "id": "4C8tJ0xkaQx3"
      }
    },
    {
      "cell_type": "markdown",
      "source": [
        "13. How do sets handle duplicate values in python?\n",
        "\n",
        "ans - Sets store only one instance of each unique element . It ignores duplicate value ."
      ],
      "metadata": {
        "id": "Uz06eLUYaQo3"
      }
    },
    {
      "cell_type": "markdown",
      "source": [
        "14. How does \"in\"keyword works different for lists and dictionaries?\n",
        "\n",
        "ans - For lists , the \"in\" keyword checksfor presence of value among the list elements , for dictionaries the \"in\" keyword check for presence of key among other keys .\n"
      ],
      "metadata": {
        "id": "iyGI_r5maQjX"
      }
    },
    {
      "cell_type": "markdown",
      "source": [
        "15. Can you modify elements of tuple ? Explain why or why not,\n",
        "\n",
        "ans - No you cannot modify elements of tuple directly as they are immutable , once created their contents cant be changed .\n",
        "\n"
      ],
      "metadata": {
        "id": "z3PMygWOaQdT"
      }
    },
    {
      "cell_type": "markdown",
      "source": [
        "16. What is nested dictionary , give example of its use case.\n",
        "\n",
        "ans - A nested dictionary is dictionary where values are themselves dictionaries . An example is storing imformation about multiple users where each user data is stored in separate nested dictionary within main dictionary ."
      ],
      "metadata": {
        "id": "Ufm15LqMaQYQ"
      }
    },
    {
      "cell_type": "markdown",
      "source": [
        "17. Describe time complexity of accessing elemnts in a dictionary.\n",
        "\n",
        "ans - The average case time is O(1)(constant time) due to use of hash tables , In worst case due to has coliision it can degrade to O(n)(linear time) but this is rare.\n"
      ],
      "metadata": {
        "id": "-gcSfgloaQR0"
      }
    },
    {
      "cell_type": "markdown",
      "source": [
        "18. In what situations are lists preferred over dictionaries ?\n",
        "\n",
        "ans - Lists are considered when order of elements are important , when you need to store collection of items that mght contain duplicates , or when you need to access elements by their indexes ."
      ],
      "metadata": {
        "id": "f1zmTh4GaQL3"
      }
    },
    {
      "cell_type": "markdown",
      "source": [
        "19 . Why are dictionaris considered unordered and how does it affect data retrieval ?\n",
        "\n",
        "ans - Dictionaries are considered unordered as they do not maintain insertion order , this means order in which items are stroed and retrieved is not guranteed to be the same as order in which they are added , which affects data retrieval if we rely on positional indexing or expect a specific sequence."
      ],
      "metadata": {
        "id": "Tu-8brxNaQC4"
      }
    },
    {
      "cell_type": "markdown",
      "source": [
        "20. Explain difference between list and dictionary in terms of data retrieval .\n",
        "\n",
        "ans - In lists , data retrieval is done by indexing , It meaintains orders of elements so retrieval is sequential , searching reuires iterating through the list , which is less efficient for larger lists .\n",
        "\n",
        "In dictionaries , data retrieval is done using keys , they are optimized for fast lookups making them efficient for retrieval of specific data , they dont rely on numerical indexing ."
      ],
      "metadata": {
        "id": "3Ji_BrlDaP1w"
      }
    },
    {
      "cell_type": "markdown",
      "source": [
        "PRACTICAL QUESTIONS\n"
      ],
      "metadata": {
        "id": "Fq99z5nnaP0o"
      }
    },
    {
      "cell_type": "code",
      "source": [
        "# Create string with your name and print on it .\n",
        "\n",
        "name = \"Sagarika_Singh\"\n",
        "print(name)"
      ],
      "metadata": {
        "colab": {
          "base_uri": "https://localhost:8080/"
        },
        "id": "6l2nZniaelVW",
        "outputId": "a0d381d6-9a95-4f9a-bfb0-a4d26b85374c"
      },
      "execution_count": 2,
      "outputs": [
        {
          "output_type": "stream",
          "name": "stdout",
          "text": [
            "Sagarika_Singh\n"
          ]
        }
      ]
    },
    {
      "cell_type": "code",
      "source": [
        "#Find length of the string \"Hello World\"\n",
        "\n",
        "s=\"Hello World\"\n",
        "length=len(s)\n",
        "print (length)\n"
      ],
      "metadata": {
        "colab": {
          "base_uri": "https://localhost:8080/"
        },
        "id": "XSiDt_ZRemri",
        "outputId": "7f8ac912-bc7c-4a94-d4e6-362555d42576"
      },
      "execution_count": 3,
      "outputs": [
        {
          "output_type": "stream",
          "name": "stdout",
          "text": [
            "11\n"
          ]
        }
      ]
    },
    {
      "cell_type": "code",
      "source": [
        "#Slice the first 3 characters from the string \"Python programming\"\n",
        "\n",
        "s=\"Python programming\"\n",
        "sliced_string=s[:3]\n",
        "print(sliced_string)"
      ],
      "metadata": {
        "colab": {
          "base_uri": "https://localhost:8080/"
        },
        "id": "N9Jdsi8oeml2",
        "outputId": "52c8a3b1-e44e-4f87-eae9-4c40507c90f3"
      },
      "execution_count": 4,
      "outputs": [
        {
          "output_type": "stream",
          "name": "stdout",
          "text": [
            "Pyt\n"
          ]
        }
      ]
    },
    {
      "cell_type": "code",
      "source": [
        "#Convert string \"hello\"to uppercase\n",
        "\n",
        "s=\"hello\"\n",
        "uppercase_s=s.upper()\n",
        "print(uppercase_s)\n"
      ],
      "metadata": {
        "colab": {
          "base_uri": "https://localhost:8080/"
        },
        "id": "3ItBhWjGemfR",
        "outputId": "aaf32c0f-3a2f-4f24-e056-ec99bbf6c144"
      },
      "execution_count": 6,
      "outputs": [
        {
          "output_type": "stream",
          "name": "stdout",
          "text": [
            "HELLO\n"
          ]
        }
      ]
    },
    {
      "cell_type": "code",
      "source": [
        "#Replace word \"apple\" with \"orange\"in the string \"I like apple\".\n",
        "\n",
        "s= \"I like apple\"\n",
        "new_s=s.replace(\"apple\", \"orange\")\n",
        "print(new_s)"
      ],
      "metadata": {
        "colab": {
          "base_uri": "https://localhost:8080/"
        },
        "id": "zXG5HwEiemZV",
        "outputId": "95b859f2-7223-4800-ba8e-3a9295665f0a"
      },
      "execution_count": 7,
      "outputs": [
        {
          "output_type": "stream",
          "name": "stdout",
          "text": [
            "I like orange\n"
          ]
        }
      ]
    },
    {
      "cell_type": "code",
      "source": [
        "#Create list with numbers 1 to 5 and print it .\n",
        "\n",
        "my_list =[1,2,3,4,5]\n",
        "print (my_list)\n"
      ],
      "metadata": {
        "colab": {
          "base_uri": "https://localhost:8080/"
        },
        "id": "O7pxmYNIemTQ",
        "outputId": "f34dd35d-77dc-47a6-8605-4f3c2f312c13"
      },
      "execution_count": 10,
      "outputs": [
        {
          "output_type": "stream",
          "name": "stdout",
          "text": [
            "[1, 2, 3, 4, 5]\n"
          ]
        }
      ]
    },
    {
      "cell_type": "code",
      "source": [
        "#Append number 10 to the list .\n",
        "\n",
        "my_list=[1,2,3,4,5]\n",
        "my_list.append(10)\n",
        "print(my_list)\n"
      ],
      "metadata": {
        "colab": {
          "base_uri": "https://localhost:8080/"
        },
        "id": "EKHvEjo3emNk",
        "outputId": "4f0e3f34-8d7b-4ae9-d16d-b4f9a76da2bb"
      },
      "execution_count": 12,
      "outputs": [
        {
          "output_type": "stream",
          "name": "stdout",
          "text": [
            "[1, 2, 3, 4, 5, 10]\n"
          ]
        }
      ]
    },
    {
      "cell_type": "code",
      "source": [
        "#Remove number 3 from the list\n",
        "\n",
        "my_list=[1,2,3,4,5]\n",
        "my_list.remove(3)\n",
        "print(my_list)\n"
      ],
      "metadata": {
        "colab": {
          "base_uri": "https://localhost:8080/"
        },
        "id": "fFA_7Rmdel6B",
        "outputId": "dbcc972f-ec36-49f7-874a-56b40ef91be7"
      },
      "execution_count": 13,
      "outputs": [
        {
          "output_type": "stream",
          "name": "stdout",
          "text": [
            "[1, 2, 4, 5]\n"
          ]
        }
      ]
    },
    {
      "cell_type": "code",
      "source": [
        "#Access second element in the list ['a', 'b','c','d']\n",
        "\n",
        "my_list = ['a','b','c','d']\n",
        "second_element=my_list[1]\n",
        "print(second_element)"
      ],
      "metadata": {
        "colab": {
          "base_uri": "https://localhost:8080/"
        },
        "id": "EmnFFGc0heMx",
        "outputId": "ae3cb8b7-1571-43f4-d2fb-419703274891"
      },
      "execution_count": 15,
      "outputs": [
        {
          "output_type": "stream",
          "name": "stdout",
          "text": [
            "b\n"
          ]
        }
      ]
    },
    {
      "cell_type": "code",
      "source": [
        "#Reverse the list\n",
        "\n",
        "my_list = [10,20,30,40,50]\n",
        "my_list.reverse()\n",
        "print(my_list)\n"
      ],
      "metadata": {
        "colab": {
          "base_uri": "https://localhost:8080/"
        },
        "id": "4QelWLUxheGw",
        "outputId": "1b6474d7-bb4a-4a83-a343-e6479a030149"
      },
      "execution_count": 16,
      "outputs": [
        {
          "output_type": "stream",
          "name": "stdout",
          "text": [
            "[50, 40, 30, 20, 10]\n"
          ]
        }
      ]
    },
    {
      "cell_type": "code",
      "source": [
        "# Write a code to create a tuple with elements 100,200 ,300 and print it .\n",
        "\n",
        "tuple=(100,200,300)\n",
        "print(tuple)\n"
      ],
      "metadata": {
        "colab": {
          "base_uri": "https://localhost:8080/"
        },
        "id": "s3Y4-Fcvhd_l",
        "outputId": "9bc9e878-c3e1-4c67-f892-f39960ed229f"
      },
      "execution_count": 17,
      "outputs": [
        {
          "output_type": "stream",
          "name": "stdout",
          "text": [
            "(100, 200, 300)\n"
          ]
        }
      ]
    },
    {
      "cell_type": "code",
      "source": [
        "# Write a code to access the second-to-last element of the tuple ('red', 'green', 'blue', 'yellow').\n",
        "\n",
        "colors=('red','green','blue','yellow')\n",
        "second_to_last=colors[-2]\n",
        "print(second_to_last)\n",
        "\n"
      ],
      "metadata": {
        "colab": {
          "base_uri": "https://localhost:8080/"
        },
        "id": "FBCFchbDhd5l",
        "outputId": "9afb9509-d002-4f52-a194-b122b33c4644"
      },
      "execution_count": 20,
      "outputs": [
        {
          "output_type": "stream",
          "name": "stdout",
          "text": [
            "blue\n"
          ]
        }
      ]
    },
    {
      "cell_type": "code",
      "source": [
        "#Write a code to find the minimum number in the tuple (10, 20, 5, 15).\n",
        "\n",
        "number=(10,20,5,15)\n",
        "min_number=min(number)\n",
        "print(min_number)"
      ],
      "metadata": {
        "colab": {
          "base_uri": "https://localhost:8080/"
        },
        "id": "THNvrNshhdyr",
        "outputId": "3102993d-8c8c-49a0-d1b0-181e38a616b3"
      },
      "execution_count": 21,
      "outputs": [
        {
          "output_type": "stream",
          "name": "stdout",
          "text": [
            "5\n"
          ]
        }
      ]
    },
    {
      "cell_type": "code",
      "source": [
        "# Write a code to find the index of the element \"cat\" in the tuple ('dog', 'cat', 'rabbit').\n",
        "\n",
        "animals=('dog', 'cat', 'rabbit')\n",
        "cat_index=animals.index('cat')\n",
        "print(cat_index)"
      ],
      "metadata": {
        "colab": {
          "base_uri": "https://localhost:8080/"
        },
        "id": "a133rtHuhdsu",
        "outputId": "d8817f0c-73f7-4431-c57e-53e48ba6ceb1"
      },
      "execution_count": 23,
      "outputs": [
        {
          "output_type": "stream",
          "name": "stdout",
          "text": [
            "1\n"
          ]
        }
      ]
    },
    {
      "cell_type": "code",
      "source": [
        "#Write a code to create a tuple containing three different fruits and check if \"kiwi\" is in it\n",
        "\n",
        "fruit=(\"apple\",\"banana\",\"orange\")\n",
        "is_kiwi_present=\"kiwi\"in fruit\n",
        "print(is_kiwi_present)\n"
      ],
      "metadata": {
        "colab": {
          "base_uri": "https://localhost:8080/"
        },
        "id": "O9p4Z0pQhdlW",
        "outputId": "65368062-f0fa-46f7-b6d1-bebfd38b8fc3"
      },
      "execution_count": 25,
      "outputs": [
        {
          "output_type": "stream",
          "name": "stdout",
          "text": [
            "False\n"
          ]
        }
      ]
    },
    {
      "cell_type": "code",
      "source": [
        "#Write a code to create a set with the elements 'a', 'b', 'c' and print it.\n",
        "\n",
        "my_set_elements=('a','b','c')\n",
        "print(my_set_elements)"
      ],
      "metadata": {
        "colab": {
          "base_uri": "https://localhost:8080/"
        },
        "id": "Tml0UuO6hdcS",
        "outputId": "ec58d128-878b-429c-ecd6-529f162aac8f"
      },
      "execution_count": 53,
      "outputs": [
        {
          "output_type": "stream",
          "name": "stdout",
          "text": [
            "('a', 'b', 'c')\n"
          ]
        }
      ]
    },
    {
      "cell_type": "code",
      "source": [
        "#. Write a code to clear all elements from the set {1, 2, 3, 4, 5}.\n",
        "\n",
        "set={1, 2, 3, 4, 5}\n",
        "set.clear()\n",
        "print(set)\n"
      ],
      "metadata": {
        "colab": {
          "base_uri": "https://localhost:8080/"
        },
        "id": "hQ2d1SZ_hcqW",
        "outputId": "1f85c4cf-5739-483f-a456-ff24da5de030"
      },
      "execution_count": 27,
      "outputs": [
        {
          "output_type": "stream",
          "name": "stdout",
          "text": [
            "set()\n"
          ]
        }
      ]
    },
    {
      "cell_type": "code",
      "source": [
        "# Write a code to remove the element 4 from the set {1, 2, 3, 4}.\n",
        "\n",
        "set= {1, 2, 3, 4}\n",
        "set.remove(4)\n",
        "print(set)\n"
      ],
      "metadata": {
        "colab": {
          "base_uri": "https://localhost:8080/"
        },
        "id": "KyDlN1TrkYoB",
        "outputId": "64c96cc6-6563-48b6-cd87-1e64fc967a56"
      },
      "execution_count": 28,
      "outputs": [
        {
          "output_type": "stream",
          "name": "stdout",
          "text": [
            "{1, 2, 3}\n"
          ]
        }
      ]
    },
    {
      "cell_type": "code",
      "source": [
        "# Write a code to find the union of two sets {1, 2, 3} and {3, 4, 5}.\n",
        "\n",
        "set1={1,2,3}\n",
        "set2={3,4,5}\n",
        "union=set1.union(set2)\n",
        "print(union)\n"
      ],
      "metadata": {
        "colab": {
          "base_uri": "https://localhost:8080/"
        },
        "id": "J_USTLhFkYky",
        "outputId": "860aa085-a59a-462a-f565-f4b238842588"
      },
      "execution_count": 29,
      "outputs": [
        {
          "output_type": "stream",
          "name": "stdout",
          "text": [
            "{1, 2, 3, 4, 5}\n"
          ]
        }
      ]
    },
    {
      "cell_type": "code",
      "source": [
        "#Write a code to find the intersection of two sets {1, 2, 3} and {2, 3, 4}.\n",
        "\n",
        "set1={1,2,3}\n",
        "set2={2,3,4}\n",
        "intersection=set1.intersection(set2)\n",
        "print(intersection)\n"
      ],
      "metadata": {
        "colab": {
          "base_uri": "https://localhost:8080/"
        },
        "id": "y8JxRGlZkYh0",
        "outputId": "a1e6fb7b-4d4e-4162-a4b5-d85836dbfad0"
      },
      "execution_count": 30,
      "outputs": [
        {
          "output_type": "stream",
          "name": "stdout",
          "text": [
            "{2, 3}\n"
          ]
        }
      ]
    },
    {
      "cell_type": "code",
      "source": [
        "# Write a code to create a dictionary with the keys \"name\", \"age\", and \"city\", and print it.\n",
        "\n",
        "my_dict={\"name\":\"Sagarika\",\"age\":24,\"city\":\"New delhi\"}\n",
        "print(my_dict)"
      ],
      "metadata": {
        "colab": {
          "base_uri": "https://localhost:8080/"
        },
        "id": "nEHZrkFYkYeM",
        "outputId": "73d467df-951e-4902-9cf1-915362bae6c1"
      },
      "execution_count": 31,
      "outputs": [
        {
          "output_type": "stream",
          "name": "stdout",
          "text": [
            "{'name': 'Sagarika', 'age': 24, 'city': 'New delhi'}\n"
          ]
        }
      ]
    },
    {
      "cell_type": "code",
      "source": [
        "#. Write a code to add a new key-value pair \"country\": \"USA\" to the dictionary {'name': 'John', 'age': 25}.\n",
        "\n",
        "my_dict={'name':'John','age':25}\n",
        "my_dict['country']='USA'\n",
        "print(my_dict)"
      ],
      "metadata": {
        "colab": {
          "base_uri": "https://localhost:8080/"
        },
        "id": "n920th1_kYbH",
        "outputId": "2ab920c6-2ad6-4398-9245-50b36e5fd9de"
      },
      "execution_count": 33,
      "outputs": [
        {
          "output_type": "stream",
          "name": "stdout",
          "text": [
            "{'name': 'John', 'age': 25, 'country': 'USA'}\n"
          ]
        }
      ]
    },
    {
      "cell_type": "code",
      "source": [
        "# Write a code to access the value associated with the key \"name\" in the dictionary {'name': 'Alice', 'age': 30}.\n",
        "\n",
        "my_dict = {'name': 'Alice', 'age': 30}\n",
        "name_value = my_dict['name']\n",
        "print(name_value)\n"
      ],
      "metadata": {
        "colab": {
          "base_uri": "https://localhost:8080/"
        },
        "id": "PmrD4z5DkYYg",
        "outputId": "c854251e-d5e9-4757-d2a4-d551569e75f4"
      },
      "execution_count": 37,
      "outputs": [
        {
          "output_type": "stream",
          "name": "stdout",
          "text": [
            "Alice\n"
          ]
        }
      ]
    },
    {
      "cell_type": "code",
      "source": [
        "#Write a code to remove the key \"age\" from the dictionary {'name': 'Bob', 'age': 22, 'city': 'New York'}.\n",
        "\n",
        "my_dict = {'name': 'Bob', 'age': 22, 'city': 'New York'}\n",
        "del my_dict['age']\n",
        "print(my_dict)"
      ],
      "metadata": {
        "colab": {
          "base_uri": "https://localhost:8080/"
        },
        "id": "q0NhhvlqkYVd",
        "outputId": "e05baf90-b5c5-4c1e-a66d-7bbd5152c1a0"
      },
      "execution_count": 35,
      "outputs": [
        {
          "output_type": "stream",
          "name": "stdout",
          "text": [
            "{'name': 'Bob', 'city': 'New York'}\n"
          ]
        }
      ]
    },
    {
      "cell_type": "code",
      "source": [
        "# Write a code to check if the key \"city\" exists in the dictionary {'name': 'Alice', 'city': 'Paris'}.\n",
        "\n",
        "my_dict = {'name': 'Alice', 'city': 'Paris'}\n",
        "if \"city\" in my_dict:\n",
        "    print(\"The key 'city' exists in the dictionary.\")\n",
        "else:\n",
        "    print(\"The key 'city' does not exist in the dictionary.\")"
      ],
      "metadata": {
        "colab": {
          "base_uri": "https://localhost:8080/"
        },
        "id": "1KPHybIpkYSc",
        "outputId": "e3498d0e-bf54-4904-a848-0c9685afe0e4"
      },
      "execution_count": 39,
      "outputs": [
        {
          "output_type": "stream",
          "name": "stdout",
          "text": [
            "The key 'city' exists in the dictionary.\n"
          ]
        }
      ]
    },
    {
      "cell_type": "code",
      "source": [
        "# Write a code to create a list, a tuple, and a dictionary, and print them all.\n",
        "my_list = [1, 2, 3]\n",
        "my_tuple = (4, 5, 6)\n",
        "my_dict = {\"a\": 7, \"b\": 8, \"c\": 9}\n",
        "\n",
        "print(\"My List:\", my_list)\n",
        "print(\"My Tuple:\", my_tuple)\n",
        "print(\"My Dictionary:\", my_dict)"
      ],
      "metadata": {
        "colab": {
          "base_uri": "https://localhost:8080/"
        },
        "id": "MPE18ZG7kYPl",
        "outputId": "721a79a2-7383-44d0-9162-4f0e9a28562d"
      },
      "execution_count": 40,
      "outputs": [
        {
          "output_type": "stream",
          "name": "stdout",
          "text": [
            "My List: [1, 2, 3]\n",
            "My Tuple: (4, 5, 6)\n",
            "My Dictionary: {'a': 7, 'b': 8, 'c': 9}\n"
          ]
        }
      ]
    },
    {
      "cell_type": "code",
      "source": [
        "# Write a code to create a list of 5 random numbers between 1 and 100, sort it in ascending order, and print theresult.(replaced)\n",
        "\n",
        "import random\n",
        "random=[random.randint(1,100) for _ in range(5)]\n",
        "random.sort()\n",
        "print(random)"
      ],
      "metadata": {
        "colab": {
          "base_uri": "https://localhost:8080/"
        },
        "id": "Hkyp9EN7kYLd",
        "outputId": "cf9599bf-3534-4c82-e86c-abfe60593cfa"
      },
      "execution_count": 42,
      "outputs": [
        {
          "output_type": "stream",
          "name": "stdout",
          "text": [
            "[22, 57, 62, 96, 96]\n"
          ]
        }
      ]
    },
    {
      "cell_type": "code",
      "source": [
        "# Write a code to create a list with strings and print the element at the third index.\n",
        "\n",
        "my_string_list=[\"apple\", \"banana\",\"cherry\",\"date\"]\n",
        "print(my_string_list[2])"
      ],
      "metadata": {
        "colab": {
          "base_uri": "https://localhost:8080/"
        },
        "id": "GWc-jWwVkYHw",
        "outputId": "fa101243-e83a-4ab1-d222-5980e221220b"
      },
      "execution_count": 57,
      "outputs": [
        {
          "output_type": "stream",
          "name": "stdout",
          "text": [
            "cherry\n"
          ]
        }
      ]
    },
    {
      "cell_type": "code",
      "source": [
        "#Write a code to combine two dictionaries into one and print the result.\n",
        "\n",
        "dict1 = {\"a\": 1, \"b\": 2}\n",
        "dict2 = {\"c\": 3, \"d\": 4}\n",
        "\n",
        "combined_dict = {**dict1, **dict2}\n",
        "print(combined_dict)"
      ],
      "metadata": {
        "colab": {
          "base_uri": "https://localhost:8080/"
        },
        "id": "nRP3zSTBkYC3",
        "outputId": "bb946672-8472-4e9b-fa06-7c7e32a7e2e1"
      },
      "execution_count": 45,
      "outputs": [
        {
          "output_type": "stream",
          "name": "stdout",
          "text": [
            "{'a': 1, 'b': 2, 'c': 3, 'd': 4}\n"
          ]
        }
      ]
    },
    {
      "cell_type": "code",
      "source": [
        "# Write a code to convert a list of strings into a set.\n",
        "\n",
        "string_list = [\"apple\", \"banana\", \"cherry\", \"apple\", \"banana\"]\n",
        "string_set = set(string_list)\n",
        "print(\"Original list:\", string_list)\n",
        "print(\"Converted set:\", string_set)"
      ],
      "metadata": {
        "id": "2eb3pl5crLNI"
      },
      "execution_count": null,
      "outputs": []
    }
  ]
}